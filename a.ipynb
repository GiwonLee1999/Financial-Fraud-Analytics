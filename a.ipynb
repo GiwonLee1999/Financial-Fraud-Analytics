{
 "cells": [
  {
   "cell_type": "code",
   "execution_count": null,
   "metadata": {
    "vscode": {
     "languageId": "plaintext"
    }
   },
   "outputs": [],
   "source": [
    "import pandas as pd\n",
    "\n",
    "df = pd.read_csv('Synthetic_Financial_datasets_log.csv')\n",
    "\n",
    "df.head()"
   ]
  },
  {
   "cell_type": "markdown",
   "metadata": {},
   "source": [
    "Dataset Structure\n",
    "-----------------\n",
    "\n",
    "*   step: Represents a unit of time in the real world, with 1 step equating to 1 hour. The total simulation spans 744 steps, equivalent to 30 days.\n",
    "    \n",
    "*   type: Transaction types include CASH-IN, CASH-OUT, DEBIT, PAYMENT, and TRANSFER.\n",
    "    \n",
    "*   amount: The transaction amount in the local currency.\n",
    "    \n",
    "*   nameOrig: The customer initiating the transaction.\n",
    "    \n",
    "*   oldbalanceOrg: The initial balance before the transaction.\n",
    "    \n",
    "*   newbalanceOrig: The new balance after the transaction.\n",
    "    \n",
    "*   nameDest: The transaction's recipient customer.\n",
    "    \n",
    "*   oldbalanceDest: The initial recipient's balance before the transaction. Not applicable for customers identified by 'M' (Merchants).\n",
    "    \n",
    "*   newbalanceDest: The new recipient's balance after the transaction. Not applicable for 'M' (Merchants).\n",
    "    \n",
    "*   isFraud: Identifies transactions conducted by fraudulent agents aiming to deplete customer accounts through transfers and cash-outs.\n",
    "    \n",
    "*   isFlaggedFraud: Flags large-scale, unauthorized transfers between accounts, with any single transaction exceeding 200,000 being considered illegal."
   ]
  },
  {
   "cell_type": "code",
   "execution_count": null,
   "metadata": {
    "vscode": {
     "languageId": "plaintext"
    }
   },
   "outputs": [],
   "source": [
    "df.dtypes"
   ]
  }
 ],
 "metadata": {
  "language_info": {
   "name": "python"
  }
 },
 "nbformat": 4,
 "nbformat_minor": 2
}
